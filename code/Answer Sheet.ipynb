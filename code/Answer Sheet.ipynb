{
 "cells": [
  {
   "cell_type": "markdown",
   "id": "b9f5213d",
   "metadata": {},
   "source": [
    "# Mantel Log Processing Task"
   ]
  },
  {
   "cell_type": "code",
   "execution_count": 1,
   "id": "bd926613",
   "metadata": {},
   "outputs": [],
   "source": [
    "import re\n",
    "import pandas as pd"
   ]
  },
  {
   "cell_type": "markdown",
   "id": "278657f5",
   "metadata": {},
   "source": [
    "## Setting all the different regex patterns to match fields with "
   ]
  },
  {
   "cell_type": "code",
   "execution_count": 2,
   "id": "0b0a9a96",
   "metadata": {},
   "outputs": [],
   "source": [
    "ip_pattern = re.compile(r\"\\d{1,3}\\.\\d{1,3}\\.\\d{1,3}\\.\\d{1,3}\")\n",
    "timestamp_pattern = re.compile(r\"\\[(.+?)\\]\")\n",
    "\n",
    "# Couldn't get the regex to work for matching this pattern. Went with string splitting instead, but leaving this here for \n",
    "# feedback\n",
    "url_pattern =re.compile(r'(\\bGET\\b|\\bPOST\\b|\\bPUT\\b) \\/[a-zA-Z]+-[a-zA-Z]+\\/ (\\bHTTP\\b|\\bHTTPS\\b)\\/[0-9].[0-9]')"
   ]
  },
  {
   "cell_type": "code",
   "execution_count": 3,
   "id": "d04d7d27",
   "metadata": {},
   "outputs": [],
   "source": [
    "f = open('../data/programming-task-example-data.log')\n",
    "lines = f.readlines()\n",
    "\n",
    "# Create fields for all data being extracted\n",
    "\n",
    "ip_addresses = []\n",
    "timestamps = []\n",
    "urls = []\n",
    "text_field = []\n",
    "request_type = []\n",
    "\n",
    "# For testing purposes only\n",
    "line1 = lines[0]\n",
    "\n",
    "for line in lines:\n",
    "    ip_addresses.append(re.match(ip_pattern, line).group(0))\n",
    "    timestamps.append(re.search(timestamp_pattern, line).group(0))\n",
    "    \n",
    "    text_field.append(line.split('\"')[-2])\n",
    "    \n",
    "    # I couldn't create a regex expression to isolate the request from the URL, so hardcoding it here\n",
    "    \n",
    "    # Sample log file only had GET requests, but not sure if this is tested on another input    \n",
    "    if 'GET' in line.split('\"')[1]:\n",
    "        request_type.append('GET')\n",
    "        temp = line.split('\"')[1][4:]\n",
    "        urls.append(temp[:-9])\n",
    "    elif 'POST' in line.split('\"')[1]:\n",
    "        request_type.append('POST')\n",
    "        temp = line.split('\"')[1][5:]\n",
    "        urls.append(temp[:-9])\n",
    "    elif 'PUT' in line.split('\"')[1]:\n",
    "        request_type.append('PUT')\n",
    "        temp = line.split('\"')[1][4:]\n",
    "        urls.append(temp[:-9])\n",
    "    \n",
    "f.close()"
   ]
  },
  {
   "cell_type": "code",
   "execution_count": 4,
   "id": "6989dde3",
   "metadata": {},
   "outputs": [
    {
     "data": {
      "text/plain": [
       "'\\n'"
      ]
     },
     "metadata": {},
     "output_type": "display_data"
    },
    {
     "name": "stdout",
     "output_type": "stream",
     "text": [
      "Mozilla/5.0 (X11; U; Linux x86_64; fr-FR) AppleWebKit/534.7 (KHTML, like Gecko) Epiphany/2.30.6 Safari/534.7\n"
     ]
    }
   ],
   "source": [
    "# text_field testing -\n",
    "\n",
    "display(line1.split('\"')[-1])\n",
    "print(line1.split('\"')[-2])"
   ]
  },
  {
   "cell_type": "code",
   "execution_count": 5,
   "id": "e06ce618",
   "metadata": {},
   "outputs": [
    {
     "name": "stdout",
     "output_type": "stream",
     "text": [
      "/intranet-analytics/ HTTP/1.1\n",
      "/intranet-analytics/\n"
     ]
    }
   ],
   "source": [
    "# request_type testing - \n",
    "\n",
    "print(line1.split('\"')[1][4:])\n",
    "temp = line1.split('\"')[1][4:]\n",
    "print(temp[:-9])"
   ]
  },
  {
   "cell_type": "markdown",
   "id": "b82f3d3c",
   "metadata": {},
   "source": [
    "## Creating a dataframe from the data extracted "
   ]
  },
  {
   "cell_type": "code",
   "execution_count": 6,
   "id": "1dc22c21",
   "metadata": {},
   "outputs": [],
   "source": [
    "df = pd.DataFrame()\n",
    "df['Timestamp'] = timestamps\n",
    "df['Request Type'] = request_type\n",
    "df['URLs'] = urls\n",
    "df['IP Addresses'] = ip_addresses\n",
    "df['Browser Information'] = text_field"
   ]
  },
  {
   "cell_type": "code",
   "execution_count": 7,
   "id": "d886a1e2",
   "metadata": {},
   "outputs": [
    {
     "data": {
      "text/html": [
       "<div>\n",
       "<style scoped>\n",
       "    .dataframe tbody tr th:only-of-type {\n",
       "        vertical-align: middle;\n",
       "    }\n",
       "\n",
       "    .dataframe tbody tr th {\n",
       "        vertical-align: top;\n",
       "    }\n",
       "\n",
       "    .dataframe thead th {\n",
       "        text-align: right;\n",
       "    }\n",
       "</style>\n",
       "<table border=\"1\" class=\"dataframe\">\n",
       "  <thead>\n",
       "    <tr style=\"text-align: right;\">\n",
       "      <th></th>\n",
       "      <th>Timestamp</th>\n",
       "      <th>Request Type</th>\n",
       "      <th>URLs</th>\n",
       "      <th>IP Addresses</th>\n",
       "      <th>Browser Information</th>\n",
       "    </tr>\n",
       "  </thead>\n",
       "  <tbody>\n",
       "    <tr>\n",
       "      <th>0</th>\n",
       "      <td>[10/Jul/2018:22:21:28 +0200]</td>\n",
       "      <td>GET</td>\n",
       "      <td>/intranet-analytics/</td>\n",
       "      <td>177.71.128.21</td>\n",
       "      <td>Mozilla/5.0 (X11; U; Linux x86_64; fr-FR) Appl...</td>\n",
       "    </tr>\n",
       "    <tr>\n",
       "      <th>1</th>\n",
       "      <td>[09/Jul/2018:10:11:30 +0200]</td>\n",
       "      <td>GET</td>\n",
       "      <td>http://example.net/faq/</td>\n",
       "      <td>168.41.191.40</td>\n",
       "      <td>Mozilla/5.0 (Linux; U; Android 2.3.5; en-us; H...</td>\n",
       "    </tr>\n",
       "    <tr>\n",
       "      <th>2</th>\n",
       "      <td>[11/Jul/2018:17:41:30 +0200]</td>\n",
       "      <td>GET</td>\n",
       "      <td>/this/page/does/not/exist/</td>\n",
       "      <td>168.41.191.41</td>\n",
       "      <td>Mozilla/5.0 (Linux; U; Android 2.3.5; en-us; H...</td>\n",
       "    </tr>\n",
       "    <tr>\n",
       "      <th>3</th>\n",
       "      <td>[09/Jul/2018:10:10:38 +0200]</td>\n",
       "      <td>GET</td>\n",
       "      <td>http://example.net/blog/category/meta/</td>\n",
       "      <td>168.41.191.40</td>\n",
       "      <td>Mozilla/5.0 (Macintosh; Intel Mac OS X 10_6_7)...</td>\n",
       "    </tr>\n",
       "    <tr>\n",
       "      <th>4</th>\n",
       "      <td>[10/Jul/2018:22:22:08 +0200]</td>\n",
       "      <td>GET</td>\n",
       "      <td>/blog/2018/08/survey-your-opinion-matters/</td>\n",
       "      <td>177.71.128.21</td>\n",
       "      <td>Mozilla/5.0 (Windows NT 6.1; WOW64) AppleWebKi...</td>\n",
       "    </tr>\n",
       "    <tr>\n",
       "      <th>5</th>\n",
       "      <td>[09/Jul/2018:23:00:42 +0200]</td>\n",
       "      <td>GET</td>\n",
       "      <td>/docs/manage-users/</td>\n",
       "      <td>168.41.191.9</td>\n",
       "      <td>Mozilla/5.0 (Macintosh; Intel Mac OS X 10_8_0)...</td>\n",
       "    </tr>\n",
       "    <tr>\n",
       "      <th>6</th>\n",
       "      <td>[09/Jul/2018:10:11:56 +0200]</td>\n",
       "      <td>GET</td>\n",
       "      <td>/blog/category/community/</td>\n",
       "      <td>168.41.191.40</td>\n",
       "      <td>Mozilla/5.0 (X11; U; Linux x86_64; ca-ad) Appl...</td>\n",
       "    </tr>\n",
       "    <tr>\n",
       "      <th>7</th>\n",
       "      <td>[10/Jul/2018:22:01:17 +0200]</td>\n",
       "      <td>GET</td>\n",
       "      <td>/faq/</td>\n",
       "      <td>168.41.191.34</td>\n",
       "      <td>Mozilla/5.0 (X11; U; Linux x86_64; fr-FR) Appl...</td>\n",
       "    </tr>\n",
       "    <tr>\n",
       "      <th>8</th>\n",
       "      <td>[10/Jul/2018:22:21:03 +0200]</td>\n",
       "      <td>GET</td>\n",
       "      <td>/docs/manage-websites/</td>\n",
       "      <td>177.71.128.21</td>\n",
       "      <td>Mozilla/5.0 (compatible; MSIE 10.6; Windows NT...</td>\n",
       "    </tr>\n",
       "    <tr>\n",
       "      <th>9</th>\n",
       "      <td>[11/Jul/2018:15:49:46 +0200]</td>\n",
       "      <td>GET</td>\n",
       "      <td>/faq/how-to-install/</td>\n",
       "      <td>50.112.00.28</td>\n",
       "      <td>Mozilla/5.0 (X11; U; Linux x86_64; ca-ad) Appl...</td>\n",
       "    </tr>\n",
       "    <tr>\n",
       "      <th>10</th>\n",
       "      <td>[11/Jul/2018:17:31:56 +0200]</td>\n",
       "      <td>GET</td>\n",
       "      <td>/asset.js</td>\n",
       "      <td>50.112.00.11</td>\n",
       "      <td>Mozilla/5.0 (Windows NT 6.1; WOW64) AppleWebKi...</td>\n",
       "    </tr>\n",
       "    <tr>\n",
       "      <th>11</th>\n",
       "      <td>[11/Jul/2018:17:42:07 +0200]</td>\n",
       "      <td>GET</td>\n",
       "      <td>/to-an-error</td>\n",
       "      <td>72.44.32.11</td>\n",
       "      <td>Mozilla/5.0 (compatible; MSIE 10.6; Windows NT...</td>\n",
       "    </tr>\n",
       "    <tr>\n",
       "      <th>12</th>\n",
       "      <td>[09/Jul/2018:15:48:07 +0200]</td>\n",
       "      <td>GET</td>\n",
       "      <td>/</td>\n",
       "      <td>72.44.32.10</td>\n",
       "      <td>Mozilla/5.0 (compatible; MSIE 10.6; Windows NT...</td>\n",
       "    </tr>\n",
       "    <tr>\n",
       "      <th>13</th>\n",
       "      <td>[09/Jul/2018:22:56:45 +0200]</td>\n",
       "      <td>GET</td>\n",
       "      <td>/docs/</td>\n",
       "      <td>168.41.191.9</td>\n",
       "      <td>Mozilla/5.0 (X11; Linux i686; rv:6.0) Gecko/20...</td>\n",
       "    </tr>\n",
       "    <tr>\n",
       "      <th>14</th>\n",
       "      <td>[11/Jul/2018:17:43:40 +0200]</td>\n",
       "      <td>GET</td>\n",
       "      <td>/moved-permanently</td>\n",
       "      <td>168.41.191.43</td>\n",
       "      <td>Mozilla/5.0 (Macintosh; Intel Mac OS X 10_6_7)...</td>\n",
       "    </tr>\n",
       "    <tr>\n",
       "      <th>15</th>\n",
       "      <td>[11/Jul/2018:17:44:40 +0200]</td>\n",
       "      <td>GET</td>\n",
       "      <td>/temp-redirect</td>\n",
       "      <td>168.41.191.43</td>\n",
       "      <td>Mozilla/5.0 (Macintosh; Intel Mac OS X 10_6_7)...</td>\n",
       "    </tr>\n",
       "    <tr>\n",
       "      <th>16</th>\n",
       "      <td>[09/Jul/2018:10:12:03 +0200]</td>\n",
       "      <td>GET</td>\n",
       "      <td>/docs/manage-websites/</td>\n",
       "      <td>168.41.191.40</td>\n",
       "      <td>Mozilla/5.0 (X11; Linux i686; rv:6.0) Gecko/20...</td>\n",
       "    </tr>\n",
       "    <tr>\n",
       "      <th>17</th>\n",
       "      <td>[10/Jul/2018:21:59:50 +0200]</td>\n",
       "      <td>GET</td>\n",
       "      <td>/faq/how-to/</td>\n",
       "      <td>168.41.191.34</td>\n",
       "      <td>Mozilla/5.0 (compatible; MSIE 10.0; Windows NT...</td>\n",
       "    </tr>\n",
       "    <tr>\n",
       "      <th>18</th>\n",
       "      <td>[09/Jul/2018:15:49:48 +0200]</td>\n",
       "      <td>GET</td>\n",
       "      <td>/translations/</td>\n",
       "      <td>72.44.32.10</td>\n",
       "      <td>Mozilla/5.0 (X11; Linux x86_64) AppleWebKit/53...</td>\n",
       "    </tr>\n",
       "    <tr>\n",
       "      <th>19</th>\n",
       "      <td>[10/Jul/2018:20:03:40 +0200]</td>\n",
       "      <td>GET</td>\n",
       "      <td>/newsletter/</td>\n",
       "      <td>79.125.00.21</td>\n",
       "      <td>Mozilla/5.0 (compatible; MSIE 10.0; Windows NT...</td>\n",
       "    </tr>\n",
       "    <tr>\n",
       "      <th>20</th>\n",
       "      <td>[11/Jul/2018:17:31:05 +0200]</td>\n",
       "      <td>GET</td>\n",
       "      <td>/hosting/</td>\n",
       "      <td>50.112.00.11</td>\n",
       "      <td>Mozilla/5.0 (Windows NT 6.1; WOW64) AppleWebKi...</td>\n",
       "    </tr>\n",
       "    <tr>\n",
       "      <th>21</th>\n",
       "      <td>[09/Jul/2018:15:48:20 +0200]</td>\n",
       "      <td>GET</td>\n",
       "      <td>/download/counter/</td>\n",
       "      <td>72.44.32.10</td>\n",
       "      <td>Mozilla/5.0 (X11; U; Linux x86; en-US) AppleWe...</td>\n",
       "    </tr>\n",
       "    <tr>\n",
       "      <th>22</th>\n",
       "      <td>[11/Jul/2018:17:33:01 +0200]</td>\n",
       "      <td>GET</td>\n",
       "      <td>/asset.css</td>\n",
       "      <td>50.112.00.11</td>\n",
       "      <td>Mozilla/5.0 (Windows NT 6.1; WOW64) AppleWebKi...</td>\n",
       "    </tr>\n",
       "  </tbody>\n",
       "</table>\n",
       "</div>"
      ],
      "text/plain": [
       "                       Timestamp Request Type  \\\n",
       "0   [10/Jul/2018:22:21:28 +0200]          GET   \n",
       "1   [09/Jul/2018:10:11:30 +0200]          GET   \n",
       "2   [11/Jul/2018:17:41:30 +0200]          GET   \n",
       "3   [09/Jul/2018:10:10:38 +0200]          GET   \n",
       "4   [10/Jul/2018:22:22:08 +0200]          GET   \n",
       "5   [09/Jul/2018:23:00:42 +0200]          GET   \n",
       "6   [09/Jul/2018:10:11:56 +0200]          GET   \n",
       "7   [10/Jul/2018:22:01:17 +0200]          GET   \n",
       "8   [10/Jul/2018:22:21:03 +0200]          GET   \n",
       "9   [11/Jul/2018:15:49:46 +0200]          GET   \n",
       "10  [11/Jul/2018:17:31:56 +0200]          GET   \n",
       "11  [11/Jul/2018:17:42:07 +0200]          GET   \n",
       "12  [09/Jul/2018:15:48:07 +0200]          GET   \n",
       "13  [09/Jul/2018:22:56:45 +0200]          GET   \n",
       "14  [11/Jul/2018:17:43:40 +0200]          GET   \n",
       "15  [11/Jul/2018:17:44:40 +0200]          GET   \n",
       "16  [09/Jul/2018:10:12:03 +0200]          GET   \n",
       "17  [10/Jul/2018:21:59:50 +0200]          GET   \n",
       "18  [09/Jul/2018:15:49:48 +0200]          GET   \n",
       "19  [10/Jul/2018:20:03:40 +0200]          GET   \n",
       "20  [11/Jul/2018:17:31:05 +0200]          GET   \n",
       "21  [09/Jul/2018:15:48:20 +0200]          GET   \n",
       "22  [11/Jul/2018:17:33:01 +0200]          GET   \n",
       "\n",
       "                                          URLs   IP Addresses  \\\n",
       "0                         /intranet-analytics/  177.71.128.21   \n",
       "1                      http://example.net/faq/  168.41.191.40   \n",
       "2                   /this/page/does/not/exist/  168.41.191.41   \n",
       "3       http://example.net/blog/category/meta/  168.41.191.40   \n",
       "4   /blog/2018/08/survey-your-opinion-matters/  177.71.128.21   \n",
       "5                          /docs/manage-users/   168.41.191.9   \n",
       "6                    /blog/category/community/  168.41.191.40   \n",
       "7                                        /faq/  168.41.191.34   \n",
       "8                       /docs/manage-websites/  177.71.128.21   \n",
       "9                         /faq/how-to-install/   50.112.00.28   \n",
       "10                                   /asset.js   50.112.00.11   \n",
       "11                                /to-an-error    72.44.32.11   \n",
       "12                                           /    72.44.32.10   \n",
       "13                                      /docs/   168.41.191.9   \n",
       "14                          /moved-permanently  168.41.191.43   \n",
       "15                              /temp-redirect  168.41.191.43   \n",
       "16                      /docs/manage-websites/  168.41.191.40   \n",
       "17                                /faq/how-to/  168.41.191.34   \n",
       "18                              /translations/    72.44.32.10   \n",
       "19                                /newsletter/   79.125.00.21   \n",
       "20                                   /hosting/   50.112.00.11   \n",
       "21                          /download/counter/    72.44.32.10   \n",
       "22                                  /asset.css   50.112.00.11   \n",
       "\n",
       "                                  Browser Information  \n",
       "0   Mozilla/5.0 (X11; U; Linux x86_64; fr-FR) Appl...  \n",
       "1   Mozilla/5.0 (Linux; U; Android 2.3.5; en-us; H...  \n",
       "2   Mozilla/5.0 (Linux; U; Android 2.3.5; en-us; H...  \n",
       "3   Mozilla/5.0 (Macintosh; Intel Mac OS X 10_6_7)...  \n",
       "4   Mozilla/5.0 (Windows NT 6.1; WOW64) AppleWebKi...  \n",
       "5   Mozilla/5.0 (Macintosh; Intel Mac OS X 10_8_0)...  \n",
       "6   Mozilla/5.0 (X11; U; Linux x86_64; ca-ad) Appl...  \n",
       "7   Mozilla/5.0 (X11; U; Linux x86_64; fr-FR) Appl...  \n",
       "8   Mozilla/5.0 (compatible; MSIE 10.6; Windows NT...  \n",
       "9   Mozilla/5.0 (X11; U; Linux x86_64; ca-ad) Appl...  \n",
       "10  Mozilla/5.0 (Windows NT 6.1; WOW64) AppleWebKi...  \n",
       "11  Mozilla/5.0 (compatible; MSIE 10.6; Windows NT...  \n",
       "12  Mozilla/5.0 (compatible; MSIE 10.6; Windows NT...  \n",
       "13  Mozilla/5.0 (X11; Linux i686; rv:6.0) Gecko/20...  \n",
       "14  Mozilla/5.0 (Macintosh; Intel Mac OS X 10_6_7)...  \n",
       "15  Mozilla/5.0 (Macintosh; Intel Mac OS X 10_6_7)...  \n",
       "16  Mozilla/5.0 (X11; Linux i686; rv:6.0) Gecko/20...  \n",
       "17  Mozilla/5.0 (compatible; MSIE 10.0; Windows NT...  \n",
       "18  Mozilla/5.0 (X11; Linux x86_64) AppleWebKit/53...  \n",
       "19  Mozilla/5.0 (compatible; MSIE 10.0; Windows NT...  \n",
       "20  Mozilla/5.0 (Windows NT 6.1; WOW64) AppleWebKi...  \n",
       "21  Mozilla/5.0 (X11; U; Linux x86; en-US) AppleWe...  \n",
       "22  Mozilla/5.0 (Windows NT 6.1; WOW64) AppleWebKi...  "
      ]
     },
     "execution_count": 7,
     "metadata": {},
     "output_type": "execute_result"
    }
   ],
   "source": [
    "df"
   ]
  },
  {
   "cell_type": "markdown",
   "id": "13e119c0",
   "metadata": {},
   "source": [
    "# Question 1 - Number of Unique IP Addresses"
   ]
  },
  {
   "cell_type": "markdown",
   "id": "a0f4f451",
   "metadata": {},
   "source": [
    "# Answer -"
   ]
  },
  {
   "cell_type": "code",
   "execution_count": 8,
   "id": "68e60d6e",
   "metadata": {},
   "outputs": [
    {
     "name": "stdout",
     "output_type": "stream",
     "text": [
      "The number of unique IP addresses in the log file is 11.\n"
     ]
    }
   ],
   "source": [
    "answer1 = len(df['IP Addresses'].unique())\n",
    "print(f\"The number of unique IP addresses in the log file is {answer1}.\")"
   ]
  },
  {
   "cell_type": "markdown",
   "id": "dceb7ddc",
   "metadata": {},
   "source": [
    "# Question 2 - Top 3 Most Visited URLs"
   ]
  },
  {
   "cell_type": "code",
   "execution_count": 9,
   "id": "6c9ba0c1",
   "metadata": {
    "scrolled": true
   },
   "outputs": [
    {
     "data": {
      "text/html": [
       "<div>\n",
       "<style scoped>\n",
       "    .dataframe tbody tr th:only-of-type {\n",
       "        vertical-align: middle;\n",
       "    }\n",
       "\n",
       "    .dataframe tbody tr th {\n",
       "        vertical-align: top;\n",
       "    }\n",
       "\n",
       "    .dataframe thead th {\n",
       "        text-align: right;\n",
       "    }\n",
       "</style>\n",
       "<table border=\"1\" class=\"dataframe\">\n",
       "  <thead>\n",
       "    <tr style=\"text-align: right;\">\n",
       "      <th></th>\n",
       "      <th>Timestamp</th>\n",
       "      <th>Request Type</th>\n",
       "      <th>URLs</th>\n",
       "      <th>IP Addresses</th>\n",
       "      <th>Browser Information</th>\n",
       "    </tr>\n",
       "  </thead>\n",
       "  <tbody>\n",
       "    <tr>\n",
       "      <th>0</th>\n",
       "      <td>[10/Jul/2018:22:21:28 +0200]</td>\n",
       "      <td>GET</td>\n",
       "      <td>/intranet-analytics/</td>\n",
       "      <td>177.71.128.21</td>\n",
       "      <td>Mozilla/5.0 (X11; U; Linux x86_64; fr-FR) Appl...</td>\n",
       "    </tr>\n",
       "    <tr>\n",
       "      <th>1</th>\n",
       "      <td>[09/Jul/2018:10:11:30 +0200]</td>\n",
       "      <td>GET</td>\n",
       "      <td>http://example.net/faq/</td>\n",
       "      <td>168.41.191.40</td>\n",
       "      <td>Mozilla/5.0 (Linux; U; Android 2.3.5; en-us; H...</td>\n",
       "    </tr>\n",
       "    <tr>\n",
       "      <th>2</th>\n",
       "      <td>[11/Jul/2018:17:41:30 +0200]</td>\n",
       "      <td>GET</td>\n",
       "      <td>/this/page/does/not/exist/</td>\n",
       "      <td>168.41.191.41</td>\n",
       "      <td>Mozilla/5.0 (Linux; U; Android 2.3.5; en-us; H...</td>\n",
       "    </tr>\n",
       "    <tr>\n",
       "      <th>3</th>\n",
       "      <td>[09/Jul/2018:10:10:38 +0200]</td>\n",
       "      <td>GET</td>\n",
       "      <td>http://example.net/blog/category/meta/</td>\n",
       "      <td>168.41.191.40</td>\n",
       "      <td>Mozilla/5.0 (Macintosh; Intel Mac OS X 10_6_7)...</td>\n",
       "    </tr>\n",
       "    <tr>\n",
       "      <th>4</th>\n",
       "      <td>[10/Jul/2018:22:22:08 +0200]</td>\n",
       "      <td>GET</td>\n",
       "      <td>/blog/2018/08/survey-your-opinion-matters/</td>\n",
       "      <td>177.71.128.21</td>\n",
       "      <td>Mozilla/5.0 (Windows NT 6.1; WOW64) AppleWebKi...</td>\n",
       "    </tr>\n",
       "  </tbody>\n",
       "</table>\n",
       "</div>"
      ],
      "text/plain": [
       "                      Timestamp Request Type  \\\n",
       "0  [10/Jul/2018:22:21:28 +0200]          GET   \n",
       "1  [09/Jul/2018:10:11:30 +0200]          GET   \n",
       "2  [11/Jul/2018:17:41:30 +0200]          GET   \n",
       "3  [09/Jul/2018:10:10:38 +0200]          GET   \n",
       "4  [10/Jul/2018:22:22:08 +0200]          GET   \n",
       "\n",
       "                                         URLs   IP Addresses  \\\n",
       "0                        /intranet-analytics/  177.71.128.21   \n",
       "1                     http://example.net/faq/  168.41.191.40   \n",
       "2                  /this/page/does/not/exist/  168.41.191.41   \n",
       "3      http://example.net/blog/category/meta/  168.41.191.40   \n",
       "4  /blog/2018/08/survey-your-opinion-matters/  177.71.128.21   \n",
       "\n",
       "                                 Browser Information  \n",
       "0  Mozilla/5.0 (X11; U; Linux x86_64; fr-FR) Appl...  \n",
       "1  Mozilla/5.0 (Linux; U; Android 2.3.5; en-us; H...  \n",
       "2  Mozilla/5.0 (Linux; U; Android 2.3.5; en-us; H...  \n",
       "3  Mozilla/5.0 (Macintosh; Intel Mac OS X 10_6_7)...  \n",
       "4  Mozilla/5.0 (Windows NT 6.1; WOW64) AppleWebKi...  "
      ]
     },
     "execution_count": 9,
     "metadata": {},
     "output_type": "execute_result"
    }
   ],
   "source": [
    "df.head()"
   ]
  },
  {
   "cell_type": "markdown",
   "id": "a1732267",
   "metadata": {},
   "source": [
    "Initially I just took the frequency of the URLs I extracted, but I didn't really feel like that answer was correct\n",
    "\n",
    "E.g -"
   ]
  },
  {
   "cell_type": "code",
   "execution_count": 10,
   "id": "cc7675e5",
   "metadata": {},
   "outputs": [
    {
     "data": {
      "text/plain": [
       "/docs/manage-websites/        2\n",
       "/intranet-analytics/          1\n",
       "/this/page/does/not/exist/    1\n",
       "Name: URLs, dtype: int64"
      ]
     },
     "execution_count": 10,
     "metadata": {},
     "output_type": "execute_result"
    }
   ],
   "source": [
    "df['URLs'].value_counts().sort_values(ascending = False).head(3)"
   ]
  },
  {
   "cell_type": "markdown",
   "id": "460cdd09",
   "metadata": {},
   "source": [
    "\n",
    "\n",
    "After looking at the URLs a bit closer, I realised that things like /docs/ or /faq/ repeated, so I thought that the domain was what you're looking for "
   ]
  },
  {
   "cell_type": "code",
   "execution_count": 11,
   "id": "29a30ba6",
   "metadata": {},
   "outputs": [],
   "source": [
    "domains = []\n",
    "for row in df['URLs']:\n",
    "    if \"http://\" in row:\n",
    "        domains.append(row.split('/')[2])\n",
    "    else:\n",
    "        domains.append(row.split('/')[1])"
   ]
  },
  {
   "cell_type": "code",
   "execution_count": 12,
   "id": "35516012",
   "metadata": {},
   "outputs": [
    {
     "data": {
      "text/plain": [
       "Counter({'intranet-analytics': 1,\n",
       "         'example.net': 2,\n",
       "         'this': 1,\n",
       "         'blog': 2,\n",
       "         'docs': 4,\n",
       "         'faq': 3,\n",
       "         'asset.js': 1,\n",
       "         'to-an-error': 1,\n",
       "         '': 1,\n",
       "         'moved-permanently': 1,\n",
       "         'temp-redirect': 1,\n",
       "         'translations': 1,\n",
       "         'newsletter': 1,\n",
       "         'hosting': 1,\n",
       "         'download': 1,\n",
       "         'asset.css': 1})"
      ]
     },
     "execution_count": 12,
     "metadata": {},
     "output_type": "execute_result"
    }
   ],
   "source": [
    "import collections\n",
    "counter = collections.Counter(domains)\n",
    "counter"
   ]
  },
  {
   "cell_type": "markdown",
   "id": "382ee224",
   "metadata": {},
   "source": [
    "# Answer -"
   ]
  },
  {
   "cell_type": "code",
   "execution_count": 13,
   "id": "aab83b4f",
   "metadata": {},
   "outputs": [
    {
     "name": "stdout",
     "output_type": "stream",
     "text": [
      "The website docs was visited 4 times.\n",
      "The website faq was visited 3 times.\n",
      "The website blog was visited 2 times.\n"
     ]
    }
   ],
   "source": [
    "# Code taken from https://stackoverflow.com/questions/44076269/sort-counter-by-frequency-then-alphabetically-in-python\n",
    "# Searched for 'python collections counter sort by frequency'\n",
    "\n",
    "visited_urls = sorted(counter.items(), key = lambda item: (-item[1], item[0]))\n",
    "\n",
    "# Adjust for how many URLs you want to see (e.g - task asks for 3)\n",
    "TOP_X = 3\n",
    "\n",
    "i = 0\n",
    "while i < TOP_X:\n",
    "    print(f\"The website {visited_urls[i][0]} was visited {visited_urls[i][1]} times.\")\n",
    "    i += 1"
   ]
  },
  {
   "cell_type": "markdown",
   "id": "a662ac41",
   "metadata": {},
   "source": [
    "# Question 3 - Top 3 Most Active IP Addresses"
   ]
  },
  {
   "cell_type": "code",
   "execution_count": 14,
   "id": "60502a78",
   "metadata": {},
   "outputs": [
    {
     "data": {
      "text/plain": [
       "0    177.71.128.21\n",
       "1    168.41.191.40\n",
       "2    168.41.191.41\n",
       "3    168.41.191.40\n",
       "4    177.71.128.21\n",
       "Name: IP Addresses, dtype: object"
      ]
     },
     "execution_count": 14,
     "metadata": {},
     "output_type": "execute_result"
    }
   ],
   "source": [
    "df['IP Addresses'].head()"
   ]
  },
  {
   "cell_type": "markdown",
   "id": "6aa3e0de",
   "metadata": {},
   "source": [
    "I started off with the same approach as Question 2 - a value_counts + sort_values approach, but again, didn't really get conclusive answers.\n",
    "\n",
    "I then looked up what the numbers that make up an IP Address actually mean, and found that the first 3 sections are the Network ID, and the last section is the Host ID. I noticed in the sample data that the first 3 sections repeated often, with the last bit varying, so I took 'most active' IP address to mean most active network "
   ]
  },
  {
   "cell_type": "code",
   "execution_count": 15,
   "id": "b6524c56",
   "metadata": {},
   "outputs": [],
   "source": [
    "network_id = []\n",
    "host_id = []\n",
    "\n",
    "for row in df['IP Addresses']:\n",
    "    network_id.append(row.split('.')[0] + '.' + row.split('.')[1] + '.' + row.split('.')[2])\n",
    "    host_id.append(row.split('.')[-1])"
   ]
  },
  {
   "cell_type": "markdown",
   "id": "304c5c9d",
   "metadata": {},
   "source": [
    "# Answer -"
   ]
  },
  {
   "cell_type": "code",
   "execution_count": 16,
   "id": "f563f03b",
   "metadata": {},
   "outputs": [
    {
     "data": {
      "text/html": [
       "<div>\n",
       "<style scoped>\n",
       "    .dataframe tbody tr th:only-of-type {\n",
       "        vertical-align: middle;\n",
       "    }\n",
       "\n",
       "    .dataframe tbody tr th {\n",
       "        vertical-align: top;\n",
       "    }\n",
       "\n",
       "    .dataframe thead th {\n",
       "        text-align: right;\n",
       "    }\n",
       "</style>\n",
       "<table border=\"1\" class=\"dataframe\">\n",
       "  <thead>\n",
       "    <tr style=\"text-align: right;\">\n",
       "      <th></th>\n",
       "      <th>Network ID</th>\n",
       "      <th>Host ID</th>\n",
       "    </tr>\n",
       "  </thead>\n",
       "  <tbody>\n",
       "    <tr>\n",
       "      <th>0</th>\n",
       "      <td>177.71.128</td>\n",
       "      <td>21</td>\n",
       "    </tr>\n",
       "    <tr>\n",
       "      <th>1</th>\n",
       "      <td>168.41.191</td>\n",
       "      <td>40</td>\n",
       "    </tr>\n",
       "    <tr>\n",
       "      <th>2</th>\n",
       "      <td>168.41.191</td>\n",
       "      <td>41</td>\n",
       "    </tr>\n",
       "    <tr>\n",
       "      <th>3</th>\n",
       "      <td>168.41.191</td>\n",
       "      <td>40</td>\n",
       "    </tr>\n",
       "    <tr>\n",
       "      <th>4</th>\n",
       "      <td>177.71.128</td>\n",
       "      <td>21</td>\n",
       "    </tr>\n",
       "  </tbody>\n",
       "</table>\n",
       "</div>"
      ],
      "text/plain": [
       "   Network ID Host ID\n",
       "0  177.71.128      21\n",
       "1  168.41.191      40\n",
       "2  168.41.191      41\n",
       "3  168.41.191      40\n",
       "4  177.71.128      21"
      ]
     },
     "execution_count": 16,
     "metadata": {},
     "output_type": "execute_result"
    }
   ],
   "source": [
    "df2 = pd.DataFrame()\n",
    "df2['Network ID'] = network_id\n",
    "df2['Host ID'] = host_id\n",
    "df2.head()"
   ]
  },
  {
   "cell_type": "code",
   "execution_count": 17,
   "id": "c59a3707",
   "metadata": {},
   "outputs": [
    {
     "data": {
      "text/plain": [
       "168.41.191    11\n",
       "50.112.00      4\n",
       "72.44.32       4\n",
       "Name: Network ID, dtype: int64"
      ]
     },
     "execution_count": 17,
     "metadata": {},
     "output_type": "execute_result"
    }
   ],
   "source": [
    "df2['Network ID'].value_counts().head(3)"
   ]
  }
 ],
 "metadata": {
  "kernelspec": {
   "display_name": "Python 3 (ipykernel)",
   "language": "python",
   "name": "python3"
  },
  "language_info": {
   "codemirror_mode": {
    "name": "ipython",
    "version": 3
   },
   "file_extension": ".py",
   "mimetype": "text/x-python",
   "name": "python",
   "nbconvert_exporter": "python",
   "pygments_lexer": "ipython3",
   "version": "3.8.10"
  }
 },
 "nbformat": 4,
 "nbformat_minor": 5
}
